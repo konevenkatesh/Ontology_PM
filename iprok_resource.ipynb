{
  "nbformat": 4,
  "nbformat_minor": 0,
  "metadata": {
    "colab": {
      "provenance": [],
      "authorship_tag": "ABX9TyPxT3X8zUJCZfrf39x4wDRe",
      "include_colab_link": true
    },
    "kernelspec": {
      "name": "python3",
      "display_name": "Python 3"
    },
    "language_info": {
      "name": "python"
    }
  },
  "cells": [
    {
      "cell_type": "markdown",
      "metadata": {
        "id": "view-in-github",
        "colab_type": "text"
      },
      "source": [
        "<a href=\"https://colab.research.google.com/github/konevenkatesh/Ontology_PM/blob/main/iprok_resource.ipynb\" target=\"_parent\"><img src=\"https://colab.research.google.com/assets/colab-badge.svg\" alt=\"Open In Colab\"/></a>"
      ]
    },
    {
      "cell_type": "code",
      "execution_count": 5,
      "metadata": {
        "colab": {
          "base_uri": "https://localhost:8080/"
        },
        "id": "p65l4G_KQPZM",
        "outputId": "a5671440-c1ef-4eda-bf4a-59fceb5b9689"
      },
      "outputs": [
        {
          "output_type": "stream",
          "name": "stdout",
          "text": [
            "Requirement already satisfied: owlready2 in /usr/local/lib/python3.11/dist-packages (0.47)\n",
            "Collecting rdflib\n",
            "  Downloading rdflib-7.1.4-py3-none-any.whl.metadata (11 kB)\n",
            "Requirement already satisfied: pyparsing<4,>=2.1.0 in /usr/local/lib/python3.11/dist-packages (from rdflib) (3.2.3)\n",
            "Downloading rdflib-7.1.4-py3-none-any.whl (565 kB)\n",
            "\u001b[2K   \u001b[90m━━━━━━━━━━━━━━━━━━━━━━━━━━━━━━━━━━━━━━━━\u001b[0m \u001b[32m565.1/565.1 kB\u001b[0m \u001b[31m8.6 MB/s\u001b[0m eta \u001b[36m0:00:00\u001b[0m\n",
            "\u001b[?25hInstalling collected packages: rdflib\n",
            "Successfully installed rdflib-7.1.4\n"
          ]
        }
      ],
      "source": [
        "!pip install owlready2\n",
        "!pip install rdflib"
      ]
    },
    {
      "cell_type": "code",
      "source": [
        "# Import necessary libraries\n",
        "from owlready2 import *\n",
        "from datetime import date, datetime, timedelta\n",
        "from rdflib import Graph"
      ],
      "metadata": {
        "id": "n3omY7skQgzh"
      },
      "execution_count": 6,
      "outputs": []
    },
    {
      "cell_type": "code",
      "source": [
        "# Define the IproK Ontology IRI and get/create the ontology\n",
        "iprok_resource_ontology_iri = \"https://w3id.org/IproK/resource#\"\n",
        "iprok_resource = get_ontology(iprok_resource_ontology_iri)"
      ],
      "metadata": {
        "id": "2-n87FWxQhgh"
      },
      "execution_count": 4,
      "outputs": []
    },
    {
      "cell_type": "code",
      "source": [
        "# ==========================================================================\n",
        "    # Resource Management Module (Conceptualization based on Module.docx Fig 4)\n",
        "    # ==========================================================================\n",
        "print(\"Defining Resource Management Module...\")\n",
        "with iprok_resource:\n",
        "\n",
        "  # Define a base class for all IproK specific entities\n",
        "    class IproKThing(Thing):\n",
        "        namespace = iprok_resource\n",
        "\n",
        "    class Constraint(IproKThing):\n",
        "        \"\"\"Represents specific date or condition constraints applied to tasks.\"\"\"\n",
        "        pass\n",
        "\n",
        "    # Core Classes\n",
        "    class Resource(IproKThing):\n",
        "        \"\"\"An asset, item, or person required for or consumed by project tasks.\"\"\"\n",
        "        pass\n",
        "\n",
        "    class ResourceType(IproKThing):\n",
        "        \"\"\"The classification of a resource.\"\"\"\n",
        "        pass\n",
        "\n",
        "    class LaborResource(ResourceType): pass\n",
        "    class EquipmentResource(ResourceType): pass\n",
        "    class MaterialResource(ResourceType): pass\n",
        "    class UserDefinedResource(ResourceType): pass # For other types\n",
        "\n",
        "    # Axiom: Resource types are disjoint\n",
        "    AllDisjoint([LaborResource, EquipmentResource, MaterialResource, UserDefinedResource])\n",
        "\n",
        "    class TrackingTag(IproKThing):\n",
        "        \"\"\"An identifier or device used for monitoring a resource.\"\"\"\n",
        "        pass\n",
        "\n",
        "    class Units(IproKThing): # Unit of Measure\n",
        "        \"\"\"The unit of measure for a resource quantity or rate.\"\"\"\n",
        "        pass\n",
        "\n",
        "    class ResourceConstraint(Constraint): # Can inherit from general Constraint or be distinct\n",
        "        \"\"\"A limitation or condition affecting the use or availability of a resource.\"\"\"\n",
        "        pass\n",
        "\n",
        " # Common Data Properties (can be defined once and domain/range refined or applied broadly)\n",
        "    class hasGlobalId(DataProperty, FunctionalProperty):\n",
        "        range = [str]\n",
        "        comment = [\"A globally unique identifier.\"]\n",
        "\n",
        "    class hasId(DataProperty, FunctionalProperty):\n",
        "        range = [str]\n",
        "        comment = [\"A local or project-specific identifier.\"]\n",
        "\n",
        "    class hasName(DataProperty, FunctionalProperty):\n",
        "        range = [str]\n",
        "        comment = [\"The common name of the entity.\"]\n",
        "\n",
        "    class hasDescription(DataProperty):\n",
        "        range = [str]\n",
        "        comment = [\"A textual description of the entity.\"]\n",
        "    # Resource Module - Data Properties\n",
        "    # Reusing hasId, hasName, hasGlobalId, hasDescription defined earlier\n",
        "    # Their domains can be extended here or applied generally\n",
        "    hasId.domain.append(Resource)\n",
        "    hasName.domain.append(Resource)\n",
        "    hasGlobalId.domain.append(Resource)\n",
        "    hasDescription.domain.append(Resource)\n",
        "    # Similar for ResourceType, TrackingTag, Units, ResourceConstraint\n",
        "\n",
        "    class baseRate(DataProperty): # Simplified from baseRate_onDate for this example\n",
        "        domain = [Resource]\n",
        "        range = [float] # Assuming a numeric rate, currency can be another property or context\n",
        "\n",
        "    class currency(DataProperty, FunctionalProperty): # Added for cost context\n",
        "        domain = [Resource]\n",
        "        range = [str] # e.g., \"USD\", \"EUR\"\n",
        "\n",
        "    class effectiveDateForRate(DataProperty, FunctionalProperty): # For baseRate_onDate context\n",
        "        domain = [Resource]\n",
        "        range = [date]\n",
        "\n",
        "    class maxUnits(DataProperty, FunctionalProperty): # e.g., max units available per day\n",
        "        domain = [Resource]\n",
        "        range = [float]\n",
        "\n",
        "    # Allocation-specific units are better on a ResourceAllocation class (Interrelation Module)\n",
        "    # For now, these are conceptual placeholders if directly on Resource\n",
        "    class budgetedUnits(DataProperty):\n",
        "        domain = [Resource] # Or ResourceAllocation\n",
        "        range = [float]\n",
        "\n",
        "    class actualUnits(DataProperty):\n",
        "        domain = [Resource] # Or ResourceAllocation\n",
        "        range = [float]\n",
        "\n",
        "    class remainingUnits(DataProperty):\n",
        "        domain = [Resource] # Or ResourceAllocation\n",
        "        range = [float]\n",
        "\n",
        "    class atCompleteUnits(DataProperty):\n",
        "        domain = [Resource] # Or ResourceAllocation\n",
        "        range = [float]\n",
        "\n",
        "    class isPrimaryResource(DataProperty, FunctionalProperty):\n",
        "        domain = [Resource] # Or ResourceAllocation\n",
        "        range = [bool]\n",
        "\n",
        "    # ResourceConstraint data properties already covered by general Constraint type\n",
        "\n",
        "    # Resource Module - Object Properties\n",
        "    class hasResourceType(ObjectProperty, FunctionalProperty):\n",
        "        domain = [Resource]\n",
        "        range = [ResourceType]\n",
        "\n",
        "    class hasTrackingTag(ObjectProperty):\n",
        "        domain = [Resource]\n",
        "        range = [TrackingTag]\n",
        "\n",
        "    class measuredIn(ObjectProperty, FunctionalProperty):\n",
        "        domain = [Resource]\n",
        "        range = [Units]\n",
        "\n",
        "    class hasResourceConstraints(ObjectProperty): # Renamed from hasConstraint for clarity\n",
        "        domain = [Resource]\n",
        "        range = [ResourceConstraint]\n",
        "\n",
        "    # 'assignsToActor' can be reused from Schedule module if domain is broadened,\n",
        "    # or a specific one like 'resourceManagedBy' Actor can be defined.\n"
      ],
      "metadata": {
        "id": "gMluBqtBQyTS"
      },
      "execution_count": null,
      "outputs": []
    },
    {
      "cell_type": "code",
      "source": [
        "iprok_resource.save(file=\"iprok_resource.owl\", format=\"rdfxml\")\n",
        "g = Graph()\n",
        "g.parse(\"iprok_resource.owl\", format=\"xml\")\n",
        "g.serialize(destination=\"iprok_resource.ttl\", format=\"turtle\")\n"
      ],
      "metadata": {
        "colab": {
          "base_uri": "https://localhost:8080/"
        },
        "id": "chFUCWhYTBrc",
        "outputId": "d51eb523-0e5e-47c3-9638-3e7ba89a29ed"
      },
      "execution_count": 7,
      "outputs": [
        {
          "output_type": "execute_result",
          "data": {
            "text/plain": [
              "<Graph identifier=N8872e9642afb41f5b3de9edc3f4836dd (<class 'rdflib.graph.Graph'>)>"
            ]
          },
          "metadata": {},
          "execution_count": 7
        }
      ]
    }
  ]
}