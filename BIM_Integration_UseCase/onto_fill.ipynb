{
 "cells": [
  {
   "cell_type": "code",
   "execution_count": 1,
   "metadata": {},
   "outputs": [],
   "source": [
    "import ifcopenshell\n",
    "import ifcopenshell.util.element as Element\n",
    "from owlready2 import *\n",
    "import uuid\n",
    "\n",
    "# Load IFC file\n",
    "ifc_file = ifcopenshell.open(\"Duplex_House.ifc\")\n",
    "\n",
    "#Load Ontology\n",
    "onto = get_ontology(\"base_bimonto.owl\").load()\n",
    "\n",
    "quantities_attr = [\n",
    "    \"Length\",\"Width\",\"Height\",\"NetVolume\",\"NetSideArea\",\n",
    "    \"GrossVolume\",\"Perimeter\",\"NetAreaGrossArea\",\"OuterSurfaceArea\",\n",
    "    \"CrossSectionArea\",\"Span\",\"NumberOfRiser\",\"RiserHeight\",\"TreadLength\",\n",
    "]"
   ]
  },
  {
   "cell_type": "code",
   "execution_count": 2,
   "metadata": {},
   "outputs": [],
   "source": [
    "objects = ifc_file.by_type(\"IfcBuildingElement\")\n",
    "\n",
    "\n",
    "for obj in objects :\n",
    "    obj_type = obj.is_a()\n",
    "    obj_id = obj.id()\n",
    "    level = Element.get_container(obj).Name if Element.get_container(obj) else ''\n",
    "    with onto :\n",
    "        insta = onto[obj_type](f\"{obj_type}_{obj_id}\")\n",
    "        insta.id = obj_id\n",
    "        insta.type = obj_type\n",
    "        insta.GlobalId = obj.GlobalId\n",
    "        insta.Name = obj.Name\n",
    "        insta.Description = obj.Description\n",
    "        insta.ObjectType = obj.ObjectType\n",
    "        insta.Tag = obj.Tag\n",
    "        insta.PredefinedType = obj.PredefinedType\n",
    "        \n",
    "        building_storey = onto[\"IfcBuildingStorey\"](level)\n",
    "        insta.isLocatedAt = building_storey\n",
    "        building_storey.containElements.append(insta)\n",
    "        \n",
    "        \n",
    "        Quantitysets = Element.get_psets(obj, qtos_only=True)\n",
    "        qto_names = list(Quantitysets.keys())\n",
    "        for qto_name in qto_names:\n",
    "            set_id = Quantitysets[qto_name][\"id\"]\n",
    "            qto_set = onto[\"IfcQuantitySet\"](f\"{qto_name}_{set_id}\")\n",
    "            insta.hasQuantitySet.append(qto_set)\n",
    "            # Iterate over the properties and set them to the instance\n",
    "            for qto_attr in quantities_attr:\n",
    "                value = next((value.get(qto_attr) for value in Quantitysets.values() if qto_attr in value), None)\n",
    "    \n",
    "                if value is not None:\n",
    "                    setattr(qto_set, qto_attr, value)\n",
    "        \n",
    "        \n",
    "        property_sets = Element.get_psets(obj, psets_only=True)\n",
    "        for pset_name, attributes in property_sets.items():\n",
    "            set_id = property_sets [pset_name][\"id\"]\n",
    "            prop_set = onto[\"IfcPropertySet\"](f\"{pset_name}_{set_id}\")\n",
    "            insta.hasPropertySet.append(prop_set)\n",
    "            for attribute, value in attributes.items():\n",
    "                data_prop = types.new_class(attribute, (DataProperty, FunctionalProperty))\n",
    "                data_prop.domain = [onto.IfcPropertySet]\n",
    "                data_prop.range = [type(value)]\n",
    "                setattr(prop_set, attribute, value)  \n",
    "  \n",
    "    \n",
    "   "
   ]
  },
  {
   "cell_type": "code",
   "execution_count": 3,
   "metadata": {},
   "outputs": [],
   "source": [
    "onto.save(file= \"filled_bimonto.owl\", format=\"rdfxml\")"
   ]
  },
  {
   "cell_type": "code",
   "execution_count": 56,
   "metadata": {},
   "outputs": [],
   "source": [
    "onto.destroy()"
   ]
  },
  {
   "cell_type": "code",
   "execution_count": 1,
   "metadata": {},
   "outputs": [
    {
     "data": {
      "text/plain": [
       "<Graph identifier=N2e132eeb480c4e24ae8408dfd90b1c43 (<class 'rdflib.graph.Graph'>)>"
      ]
     },
     "execution_count": 1,
     "metadata": {},
     "output_type": "execute_result"
    }
   ],
   "source": [
    "from rdflib import Graph\n",
    "\n",
    "# Load the ontology\n",
    "g = Graph()\n",
    "g.parse(\"filled_bimonto.owl\", format=\"xml\")  # Adjust format as needed\n",
    "\n",
    "g.serialize(\"filled_bimonto.ttl\", format=\"ttl\")"
   ]
  }
 ],
 "metadata": {
  "kernelspec": {
   "display_name": "Python 3",
   "language": "python",
   "name": "python3"
  },
  "language_info": {
   "codemirror_mode": {
    "name": "ipython",
    "version": 3
   },
   "file_extension": ".py",
   "mimetype": "text/x-python",
   "name": "python",
   "nbconvert_exporter": "python",
   "pygments_lexer": "ipython3",
   "version": "3.12.0"
  }
 },
 "nbformat": 4,
 "nbformat_minor": 2
}
