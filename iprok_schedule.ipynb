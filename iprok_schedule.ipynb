{
  "nbformat": 4,
  "nbformat_minor": 0,
  "metadata": {
    "colab": {
      "provenance": [],
      "authorship_tag": "ABX9TyN9rw2de6WhQS3acEdinLD8",
      "include_colab_link": true
    },
    "kernelspec": {
      "name": "python3",
      "display_name": "Python 3"
    },
    "language_info": {
      "name": "python"
    }
  },
  "cells": [
    {
      "cell_type": "markdown",
      "metadata": {
        "id": "view-in-github",
        "colab_type": "text"
      },
      "source": [
        "<a href=\"https://colab.research.google.com/github/konevenkatesh/Ontology_PM/blob/main/iprok_schedule.ipynb\" target=\"_parent\"><img src=\"https://colab.research.google.com/assets/colab-badge.svg\" alt=\"Open In Colab\"/></a>"
      ]
    },
    {
      "cell_type": "code",
      "execution_count": 59,
      "metadata": {
        "id": "1GpbaXNb70jO",
        "colab": {
          "base_uri": "https://localhost:8080/"
        },
        "outputId": "89d25824-dc42-4286-c4ca-7ceefd809a1e"
      },
      "outputs": [
        {
          "output_type": "stream",
          "name": "stdout",
          "text": [
            "Requirement already satisfied: owlready2 in /usr/local/lib/python3.11/dist-packages (0.47)\n"
          ]
        }
      ],
      "source": [
        "!pip install owlready2\n"
      ]
    },
    {
      "cell_type": "code",
      "source": [
        "# Import necessary libraries\n",
        "from owlready2 import *\n",
        "from datetime import date, datetime, timedelta"
      ],
      "metadata": {
        "id": "pLdB4TwN8nwv"
      },
      "execution_count": 60,
      "outputs": []
    },
    {
      "cell_type": "code",
      "source": [
        "# Define the IproK Ontology IRI and get/create the ontology\n",
        "iprok_ontology_iri = \"https://w3id.org/IproK/schedule#\"\n",
        "iprok = get_ontology(iprok_ontology_iri)"
      ],
      "metadata": {
        "id": "HltaN9OV83n9"
      },
      "execution_count": 61,
      "outputs": []
    },
    {
      "cell_type": "code",
      "source": [
        "with iprok:\n",
        "    # Define a base class for all IproK specific entities\n",
        "    class IproKThing(Thing):\n",
        "        namespace = iprok\n",
        "\n",
        "    # ==========================================================================\n",
        "    # Schedule Management Module (Conceptualization based on Module.docx Fig 3)\n",
        "    # ==========================================================================\n",
        "    print(\"Defining Schedule Management Module...\")\n",
        "\n",
        "    # Core Classes\n",
        "    class Project(IproKThing):\n",
        "        \"\"\"The overarching container for all project-related information.\"\"\"\n",
        "        pass\n",
        "\n",
        "    class Actor(IproKThing): # Assuming Actor is a general concept, potentially cross-module\n",
        "        \"\"\"Represents individuals or organizations responsible for or involved in tasks.\"\"\"\n",
        "        pass\n",
        "\n",
        "    class WBS_Element(Project):\n",
        "        \"\"\"A general class for any component within the project's Work Breakdown Structure.\"\"\"\n",
        "        pass\n",
        "\n",
        "    class WorkPackage(WBS_Element):\n",
        "        \"\"\"A significant grouping of related tasks, often a major deliverable or phase.\"\"\"\n",
        "        pass\n",
        "\n",
        "    class Task(WBS_Element):\n",
        "        \"\"\"The fundamental unit of work. Can be a summary task or a leaf-level task.\"\"\"\n",
        "        pass\n",
        "\n",
        "    class TaskTime(IproKThing):\n",
        "        \"\"\"A class to reify temporal attributes of a Task.\"\"\"\n",
        "        pass\n",
        "\n",
        "    class TaskDependency(IproKThing): # Referred to as TaskRel in Module.docx Fig 3\n",
        "        \"\"\"Represents logical relationships between tasks.\"\"\"\n",
        "        pass\n",
        "\n",
        "    class Milestone(Task): # Conceptualized as a specialized Task\n",
        "        \"\"\"A significant event in the project, often with zero duration.\"\"\"\n",
        "        pass\n",
        "\n",
        "    class Constraint(IproKThing):\n",
        "        \"\"\"Represents specific date or condition constraints applied to tasks.\"\"\"\n",
        "        pass\n",
        "\n",
        "    class Calendar(IproKThing):\n",
        "        \"\"\"Defines working and non-working times.\"\"\"\n",
        "        pass\n",
        "\n",
        "    # Common Data Properties (can be defined once and domain/range refined or applied broadly)\n",
        "    class hasGlobalId(DataProperty, FunctionalProperty):\n",
        "        range = [str]\n",
        "        comment = [\"A globally unique identifier.\"]\n",
        "\n",
        "    class hasId(DataProperty, FunctionalProperty):\n",
        "        range = [str]\n",
        "        comment = [\"A local or project-specific identifier.\"]\n",
        "\n",
        "    class hasName(DataProperty, FunctionalProperty):\n",
        "        range = [str]\n",
        "        comment = [\"The common name of the entity.\"]\n",
        "\n",
        "    class hasDescription(DataProperty):\n",
        "        range = [str]\n",
        "        comment = [\"A textual description of the entity.\"]\n",
        "\n",
        "    # Schedule Module - Data Properties\n",
        "    class projectCategory(DataProperty):\n",
        "        domain = [Project]\n",
        "        range = [str]\n",
        "\n",
        "    class projectOwner(DataProperty):\n",
        "        domain = [Project]\n",
        "        range = [str] # Or link to an Actor/Organization class\n",
        "\n",
        "    class projectAddress(DataProperty):\n",
        "        domain = [Project]\n",
        "        range = [str]\n",
        "\n",
        "    class isCriticalTask(DataProperty, FunctionalProperty):\n",
        "        domain = [Task]\n",
        "        range = [bool]\n",
        "\n",
        "    class isMilestone(DataProperty, FunctionalProperty): # If Milestone is not a direct subclass\n",
        "        domain = [Task]\n",
        "        range = [bool]\n",
        "\n",
        "    class taskPriority(DataProperty, FunctionalProperty):\n",
        "        domain = [Task]\n",
        "        range = [int]\n",
        "\n",
        "    class plannedStartDate(DataProperty, FunctionalProperty):\n",
        "        domain = [TaskTime]\n",
        "        range = [datetime]\n",
        "\n",
        "    class plannedFinishDate(DataProperty, FunctionalProperty):\n",
        "        domain = [TaskTime]\n",
        "        range = [datetime]\n",
        "\n",
        "    class actualStartDate(DataProperty, FunctionalProperty):\n",
        "        domain = [TaskTime]\n",
        "        range = [datetime]\n",
        "\n",
        "    class actualFinishDate(DataProperty, FunctionalProperty):\n",
        "        domain = [TaskTime]\n",
        "        range = [datetime]\n",
        "\n",
        "    class scheduleDuration(DataProperty, FunctionalProperty): # Planned duration from schedule\n",
        "        domain = [TaskTime]\n",
        "        range = [timedelta]\n",
        "\n",
        "    class actualDuration(DataProperty, FunctionalProperty):\n",
        "        domain = [TaskTime]\n",
        "        range = [timedelta]\n",
        "\n",
        "    class remainingDuration(DataProperty, FunctionalProperty):\n",
        "        domain = [TaskTime]\n",
        "        range = [timedelta]\n",
        "\n",
        "    class atCompleteDuration(DataProperty, FunctionalProperty):\n",
        "        domain = [TaskTime]\n",
        "        range = [timedelta]\n",
        "\n",
        "    class taskRelationshipType(DataProperty, FunctionalProperty): # e.g., \"FS\", \"SS\"\n",
        "        domain = [TaskDependency]\n",
        "        range = [str]\n",
        "\n",
        "    class lagTime(DataProperty, FunctionalProperty):\n",
        "        domain = [TaskDependency]\n",
        "        range = [timedelta] # Can be positive (lag) or negative (lead)\n",
        "\n",
        "    class constraintType(DataProperty, FunctionalProperty):\n",
        "        domain = [Constraint]\n",
        "        range = [str] # e.g., \"MustStartOn\", \"FinishNoLaterThan\"\n",
        "\n",
        "    class constraintDate(DataProperty, FunctionalProperty):\n",
        "        domain = [Constraint]\n",
        "        range = [datetime]\n",
        "\n",
        "    # Schedule Module - Object Properties\n",
        "    class hasWorkPackage(ObjectProperty):\n",
        "        domain = [Project]\n",
        "        range = [WorkPackage]\n",
        "\n",
        "    class hasWBS(ObjectProperty): # Links WorkPackage to its WBS_Elements\n",
        "        domain = [WorkPackage]\n",
        "        range = [WBS_Element]\n",
        "\n",
        "    class hasTask(ObjectProperty): # Links WBS_Element to Tasks\n",
        "        domain = [WBS_Element]\n",
        "        range = [Task]\n",
        "\n",
        "    class hasSubTask(ObjectProperty): # For task decomposition\n",
        "        domain = [Task]\n",
        "        range = [Task]\n",
        "        # Consider making it transitive if appropriate, and ensure acyclicity via other means if needed\n",
        "\n",
        "    class hasTaskTime(ObjectProperty, FunctionalProperty): # A Task has one TaskTime entity\n",
        "        domain = [Task]\n",
        "        range = [TaskTime]\n",
        "\n",
        "    class hasPredecessorDependency(ObjectProperty): # Task links to a Dependency object\n",
        "        domain = [Task]\n",
        "        range = [TaskDependency]\n",
        "        inverse_property_name = \"linksToSuccessorTask\" # Conceptual inverse name\n",
        "\n",
        "    class hasSuccessorDependency(ObjectProperty): # Task links to a Dependency object\n",
        "        domain = [Task]\n",
        "        range = [TaskDependency]\n",
        "        inverse_property_name = \"linksToPredecessorTask\" # Conceptual inverse name\n",
        "\n",
        "    # Defining the actual linking properties for TaskDependency\n",
        "    class linksToPredecessorTask(ObjectProperty, FunctionalProperty):\n",
        "        domain = [TaskDependency]\n",
        "        range = [Task]\n",
        "        # inverse_property = hasSuccessorDependency # This creates a direct inverse\n",
        "\n",
        "    class linksToSuccessorTask(ObjectProperty, FunctionalProperty):\n",
        "        domain = [TaskDependency]\n",
        "        range = [Task]\n",
        "        # inverse_property = hasPredecessorDependency # This creates a direct inverse\n",
        "\n",
        "    class hasConstraint(ObjectProperty):\n",
        "        domain = [Task]\n",
        "        range = [Constraint]\n",
        "\n",
        "    class assignedTo(ObjectProperty): # From WorkPackage to Actor\n",
        "        domain = [WorkPackage, Task] # Task can also be assigned\n",
        "        range = [Actor]\n"
      ],
      "metadata": {
        "colab": {
          "base_uri": "https://localhost:8080/"
        },
        "id": "uYyxT5Fn9Vnm",
        "outputId": "e64913bc-aa3a-4ce5-fc2c-9bf1317f20df"
      },
      "execution_count": 62,
      "outputs": [
        {
          "output_type": "stream",
          "name": "stdout",
          "text": [
            "Defining Schedule Management Module...\n"
          ]
        }
      ]
    },
    {
      "cell_type": "code",
      "source": [
        "iprok.save(file=\"iprok_schedule.owl\", format=\"rdfxml\")"
      ],
      "metadata": {
        "id": "wFMJbZtGA9FC"
      },
      "execution_count": 63,
      "outputs": []
    },
    {
      "cell_type": "code",
      "source": [
        "!pip install rdflib\n"
      ],
      "metadata": {
        "id": "Ac903T7tBKHK",
        "outputId": "194060cc-f3e8-4450-d5bb-9629589f2d3e",
        "colab": {
          "base_uri": "https://localhost:8080/"
        }
      },
      "execution_count": 64,
      "outputs": [
        {
          "output_type": "stream",
          "name": "stdout",
          "text": [
            "Requirement already satisfied: rdflib in /usr/local/lib/python3.11/dist-packages (7.1.4)\n",
            "Requirement already satisfied: pyparsing<4,>=2.1.0 in /usr/local/lib/python3.11/dist-packages (from rdflib) (3.2.3)\n"
          ]
        }
      ]
    },
    {
      "cell_type": "code",
      "source": [
        "from rdflib import Graph\n",
        "\n",
        "g= Graph()\n",
        "g.parse(\"iprok_schedule.owl\", format=\"xml\")\n",
        "g.serialize(destination=\"iprok_schedule.ttl\", format=\"ttl\")"
      ],
      "metadata": {
        "id": "ampxkQV2BSnk",
        "outputId": "865d4f83-2c1e-44df-8dd7-16c62640a895",
        "colab": {
          "base_uri": "https://localhost:8080/"
        }
      },
      "execution_count": 65,
      "outputs": [
        {
          "output_type": "execute_result",
          "data": {
            "text/plain": [
              "<Graph identifier=Ne2bcb255d5624dda8cb377be5ca73fef (<class 'rdflib.graph.Graph'>)>"
            ]
          },
          "metadata": {},
          "execution_count": 65
        }
      ]
    },
    {
      "cell_type": "code",
      "source": [
        "iprok.destroy()"
      ],
      "metadata": {
        "id": "S6eo0wpzCI6g"
      },
      "execution_count": 66,
      "outputs": []
    }
  ]
}