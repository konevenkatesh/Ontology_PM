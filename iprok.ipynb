{
  "nbformat": 4,
  "nbformat_minor": 0,
  "metadata": {
    "colab": {
      "provenance": [],
      "authorship_tag": "ABX9TyN3aBKTjJFAm0CCLnqWJ6Rp",
      "include_colab_link": true
    },
    "kernelspec": {
      "name": "python3",
      "display_name": "Python 3"
    },
    "language_info": {
      "name": "python"
    }
  },
  "cells": [
    {
      "cell_type": "markdown",
      "metadata": {
        "id": "view-in-github",
        "colab_type": "text"
      },
      "source": [
        "<a href=\"https://colab.research.google.com/github/konevenkatesh/Ontology_PM/blob/main/iprok.ipynb\" target=\"_parent\"><img src=\"https://colab.research.google.com/assets/colab-badge.svg\" alt=\"Open In Colab\"/></a>"
      ]
    },
    {
      "cell_type": "code",
      "execution_count": 9,
      "metadata": {
        "colab": {
          "base_uri": "https://localhost:8080/"
        },
        "id": "vFe0lOZcP0_2",
        "outputId": "2350a274-0c34-463c-af6b-4bdd65ad6eb8"
      },
      "outputs": [
        {
          "output_type": "stream",
          "name": "stdout",
          "text": [
            "Requirement already satisfied: owlready2 in /usr/local/lib/python3.11/dist-packages (0.48)\n",
            "Requirement already satisfied: rdflib in /usr/local/lib/python3.11/dist-packages (7.1.4)\n",
            "Requirement already satisfied: pyparsing<4,>=2.1.0 in /usr/local/lib/python3.11/dist-packages (from rdflib) (3.2.3)\n"
          ]
        }
      ],
      "source": [
        "!pip install owlready2\n",
        "!pip install rdflib"
      ]
    },
    {
      "cell_type": "code",
      "source": [
        "# Import necessary libraries\n",
        "from owlready2 import *\n",
        "from datetime import date, datetime, timedelta\n",
        "from rdflib import Graph"
      ],
      "metadata": {
        "id": "uhCqbHkGQLPC"
      },
      "execution_count": 10,
      "outputs": []
    },
    {
      "cell_type": "code",
      "source": [
        "set_log_level(9)"
      ],
      "metadata": {
        "id": "dacSwaNCQOTA"
      },
      "execution_count": 3,
      "outputs": []
    },
    {
      "cell_type": "code",
      "source": [
        "# Define the IproK Ontology IRI and get/create the ontology\n",
        "iprok_iri = \"https://w3id.org/iprok#\"\n",
        "iprok = get_ontology(iprok_iri)"
      ],
      "metadata": {
        "colab": {
          "base_uri": "https://localhost:8080/"
        },
        "id": "Mntohp8WQRw1",
        "outputId": "3948a189-8516-479e-bd20-da4b26b9af7e"
      },
      "execution_count": 11,
      "outputs": [
        {
          "output_type": "stream",
          "name": "stderr",
          "text": [
            "* Owlready2 * Creating new ontology iprok <https://w3id.org/iprok#>.\n",
            "* Owlready2 * ADD TRIPLE https://w3id.org/iprok http://www.w3.org/1999/02/22-rdf-syntax-ns#type http://www.w3.org/2002/07/owl#Ontology\n"
          ]
        }
      ]
    },
    {
      "cell_type": "code",
      "source": [
        "with iprok:\n",
        "    # Define a base class for all IproK specific entities\n",
        "    class IproKThing(Thing):\n",
        "        namespace = iprok\n",
        "\n",
        "    class Constraint(IproKThing):\n",
        "        \"\"\"Represents specific date or condition constraints applied to tasks.\"\"\"\n",
        "        pass\n",
        "\n",
        "    class Calendar(IproKThing):\n",
        "        \"\"\"Defines working and non-working times.\"\"\"\n",
        "        pass\n",
        "\n",
        "    class Actor(IproKThing):\n",
        "        \"\"\"Defines working and non-working times.\"\"\"\n",
        "        pass\n",
        "\n",
        "   # Common Data Properties (can be defined once and domain/range refined or applied broadly)\n",
        "    class hasGlobalId(DataProperty, FunctionalProperty):\n",
        "        range = [str]\n",
        "        comment = [\"A globally unique identifier.\"]\n",
        "\n",
        "    class hasId(DataProperty, FunctionalProperty):\n",
        "        range = [str]\n",
        "        comment = [\"A local or project-specific identifier.\"]\n",
        "\n",
        "    class hasName(DataProperty, FunctionalProperty):\n",
        "        range = [str]\n",
        "        comment = [\"The common name of the entity.\"]\n",
        "\n",
        "    class hasDescription(DataProperty):\n",
        "        range = [str]\n",
        "        comment = [\"A textual description of the entity.\"]"
      ],
      "metadata": {
        "colab": {
          "base_uri": "https://localhost:8080/"
        },
        "id": "rfvdo-xIQ--X",
        "outputId": "4f990e77-3792-4243-8eb6-3016845614e9"
      },
      "execution_count": 12,
      "outputs": [
        {
          "output_type": "stream",
          "name": "stderr",
          "text": [
            "* Owlready2 * ADD TRIPLE https://w3id.org/iprok#IproKThing http://www.w3.org/1999/02/22-rdf-syntax-ns#type http://www.w3.org/2002/07/owl#Class\n",
            "* Owlready2 * ADD TRIPLE https://w3id.org/iprok#IproKThing http://www.w3.org/2000/01/rdf-schema#subClassOf http://www.w3.org/2002/07/owl#Thing\n",
            "* Owlready2 * ADD TRIPLE https://w3id.org/iprok#Constraint http://www.w3.org/1999/02/22-rdf-syntax-ns#type http://www.w3.org/2002/07/owl#Class\n",
            "* Owlready2 * ADD TRIPLE https://w3id.org/iprok#Constraint http://www.w3.org/2000/01/rdf-schema#subClassOf https://w3id.org/iprok#IproKThing\n",
            "* Owlready2 * ADD TRIPLE https://w3id.org/iprok#Calendar http://www.w3.org/1999/02/22-rdf-syntax-ns#type http://www.w3.org/2002/07/owl#Class\n",
            "* Owlready2 * ADD TRIPLE https://w3id.org/iprok#Calendar http://www.w3.org/2000/01/rdf-schema#subClassOf https://w3id.org/iprok#IproKThing\n",
            "* Owlready2 * ADD TRIPLE https://w3id.org/iprok#Actor http://www.w3.org/1999/02/22-rdf-syntax-ns#type http://www.w3.org/2002/07/owl#Class\n",
            "* Owlready2 * ADD TRIPLE https://w3id.org/iprok#Actor http://www.w3.org/2000/01/rdf-schema#subClassOf https://w3id.org/iprok#IproKThing\n",
            "* Owlready2 * ADD TRIPLE https://w3id.org/iprok#hasGlobalId http://www.w3.org/1999/02/22-rdf-syntax-ns#type http://www.w3.org/2002/07/owl#DatatypeProperty\n",
            "* Owlready2 * ADD TRIPLE https://w3id.org/iprok#hasGlobalId http://www.w3.org/1999/02/22-rdf-syntax-ns#type http://www.w3.org/2002/07/owl#FunctionalProperty\n",
            "* Owlready2 * ADD TRIPLE https://w3id.org/iprok#hasGlobalId http://www.w3.org/2000/01/rdf-schema#comment A globally unique identifier. http://www.w3.org/2001/XMLSchema#string\n",
            "* Owlready2 * ADD TRIPLE https://w3id.org/iprok#hasGlobalId http://www.w3.org/2000/01/rdf-schema#range http://www.w3.org/2001/XMLSchema#string\n",
            "* Owlready2 * ADD TRIPLE https://w3id.org/iprok#hasId http://www.w3.org/1999/02/22-rdf-syntax-ns#type http://www.w3.org/2002/07/owl#DatatypeProperty\n",
            "* Owlready2 * ADD TRIPLE https://w3id.org/iprok#hasId http://www.w3.org/1999/02/22-rdf-syntax-ns#type http://www.w3.org/2002/07/owl#FunctionalProperty\n",
            "* Owlready2 * ADD TRIPLE https://w3id.org/iprok#hasId http://www.w3.org/2000/01/rdf-schema#comment A local or project-specific identifier. http://www.w3.org/2001/XMLSchema#string\n",
            "* Owlready2 * ADD TRIPLE https://w3id.org/iprok#hasId http://www.w3.org/2000/01/rdf-schema#range http://www.w3.org/2001/XMLSchema#string\n",
            "* Owlready2 * ADD TRIPLE https://w3id.org/iprok#hasName http://www.w3.org/1999/02/22-rdf-syntax-ns#type http://www.w3.org/2002/07/owl#DatatypeProperty\n",
            "* Owlready2 * ADD TRIPLE https://w3id.org/iprok#hasName http://www.w3.org/1999/02/22-rdf-syntax-ns#type http://www.w3.org/2002/07/owl#FunctionalProperty\n",
            "* Owlready2 * ADD TRIPLE https://w3id.org/iprok#hasName http://www.w3.org/2000/01/rdf-schema#comment The common name of the entity. http://www.w3.org/2001/XMLSchema#string\n",
            "* Owlready2 * ADD TRIPLE https://w3id.org/iprok#hasName http://www.w3.org/2000/01/rdf-schema#range http://www.w3.org/2001/XMLSchema#string\n",
            "* Owlready2 * ADD TRIPLE https://w3id.org/iprok#hasDescription http://www.w3.org/1999/02/22-rdf-syntax-ns#type http://www.w3.org/2002/07/owl#DatatypeProperty\n",
            "* Owlready2 * ADD TRIPLE https://w3id.org/iprok#hasDescription http://www.w3.org/2000/01/rdf-schema#comment A textual description of the entity. http://www.w3.org/2001/XMLSchema#string\n",
            "* Owlready2 * ADD TRIPLE https://w3id.org/iprok#hasDescription http://www.w3.org/2000/01/rdf-schema#range http://www.w3.org/2001/XMLSchema#string\n"
          ]
        }
      ]
    },
    {
      "cell_type": "code",
      "source": [
        "iprok.save(file=\"iprok.owl\", format=\"rdfxml\")"
      ],
      "metadata": {
        "colab": {
          "base_uri": "https://localhost:8080/"
        },
        "id": "EGjysfvkRjMu",
        "outputId": "ea266f78-9514-4d9a-af89-c7afcdd28a18"
      },
      "execution_count": 13,
      "outputs": [
        {
          "output_type": "stream",
          "name": "stderr",
          "text": [
            "* Owlready2 * Saving ontology iprok to iprok.owl...\n"
          ]
        }
      ]
    },
    {
      "cell_type": "code",
      "source": [
        "from rdflib import Graph\n",
        "\n",
        "g= Graph()\n",
        "g.parse(\"iprok.owl\", format=\"xml\")\n",
        "g.serialize(destination=\"iprok.ttl\", format=\"ttl\")"
      ],
      "metadata": {
        "colab": {
          "base_uri": "https://localhost:8080/"
        },
        "id": "MZ58h7ZGRq8g",
        "outputId": "d3c43039-ac68-4bf4-9a04-6d33e2e19a71"
      },
      "execution_count": 14,
      "outputs": [
        {
          "output_type": "execute_result",
          "data": {
            "text/plain": [
              "<Graph identifier=Nb635c8c451fc46feae577d88494ff3e6 (<class 'rdflib.graph.Graph'>)>"
            ]
          },
          "metadata": {},
          "execution_count": 14
        }
      ]
    },
    {
      "cell_type": "code",
      "source": [
        "iprok.destroy()"
      ],
      "metadata": {
        "id": "zrsEXKu0Ruqn"
      },
      "execution_count": 8,
      "outputs": []
    }
  ]
}