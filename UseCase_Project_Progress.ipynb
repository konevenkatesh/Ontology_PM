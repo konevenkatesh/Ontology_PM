{
 "cells": [
  {
   "cell_type": "markdown",
   "id": "57a72e50-e7cd-4839-b4bc-8712c794d487",
   "metadata": {},
   "source": [
    "### Q1. What are the tasks in a Project ?"
   ]
  },
  {
   "cell_type": "code",
   "execution_count": 7,
   "id": "15ad18de-b1db-4433-a708-fc3405334286",
   "metadata": {},
   "outputs": [
    {
     "data": {
      "text/html": [
       "<div>\n",
       "<style scoped>\n",
       "    .dataframe tbody tr th:only-of-type {\n",
       "        vertical-align: middle;\n",
       "    }\n",
       "\n",
       "    .dataframe tbody tr th {\n",
       "        vertical-align: top;\n",
       "    }\n",
       "\n",
       "    .dataframe thead th {\n",
       "        text-align: right;\n",
       "    }\n",
       "</style>\n",
       "<table border=\"1\" class=\"dataframe\">\n",
       "  <thead>\n",
       "    <tr style=\"text-align: right;\">\n",
       "      <th></th>\n",
       "      <th>Id</th>\n",
       "      <th>Name</th>\n",
       "      <th>IsCritical</th>\n",
       "      <th>ScheduleStart</th>\n",
       "      <th>ScheduleFininsh</th>\n",
       "      <th>ActualStart</th>\n",
       "      <th>ActualFinish</th>\n",
       "    </tr>\n",
       "  </thead>\n",
       "  <tbody>\n",
       "    <tr>\n",
       "      <th>0</th>\n",
       "      <td>TA-ENG-DR-0010</td>\n",
       "      <td>Submission of  Structural &amp; Architectural Shop...</td>\n",
       "      <td>True</td>\n",
       "      <td>30-07-2023</td>\n",
       "      <td>12-08-2023</td>\n",
       "      <td>30-07-2023</td>\n",
       "      <td>12-08-2023</td>\n",
       "    </tr>\n",
       "    <tr>\n",
       "      <th>1</th>\n",
       "      <td>TA-ENG-DR-0020</td>\n",
       "      <td>Submission of MEP Shop Drawings</td>\n",
       "      <td>True</td>\n",
       "      <td>30-07-2023</td>\n",
       "      <td>12-08-2023</td>\n",
       "      <td>30-07-2023</td>\n",
       "      <td>12-08-2023</td>\n",
       "    </tr>\n",
       "    <tr>\n",
       "      <th>2</th>\n",
       "      <td>TA-ENG-DR-0030</td>\n",
       "      <td>Approval of  Structural &amp; Architectural Shop D...</td>\n",
       "      <td>True</td>\n",
       "      <td>13-08-2023</td>\n",
       "      <td>16-08-2023</td>\n",
       "      <td>13-08-2023</td>\n",
       "      <td>16-08-2023</td>\n",
       "    </tr>\n",
       "    <tr>\n",
       "      <th>3</th>\n",
       "      <td>TA-ENG-DR-0040</td>\n",
       "      <td>Approval of MEP Shop Drawings</td>\n",
       "      <td>True</td>\n",
       "      <td>13-08-2023</td>\n",
       "      <td>19-08-2023</td>\n",
       "      <td>13-08-2023</td>\n",
       "      <td>19-08-2023</td>\n",
       "    </tr>\n",
       "    <tr>\n",
       "      <th>4</th>\n",
       "      <td>TA-FN-01-0010</td>\n",
       "      <td>Block Works</td>\n",
       "      <td>True</td>\n",
       "      <td>11-12-2023</td>\n",
       "      <td>24-12-2023</td>\n",
       "      <td>None</td>\n",
       "      <td>None</td>\n",
       "    </tr>\n",
       "    <tr>\n",
       "      <th>...</th>\n",
       "      <td>...</td>\n",
       "      <td>...</td>\n",
       "      <td>...</td>\n",
       "      <td>...</td>\n",
       "      <td>...</td>\n",
       "      <td>...</td>\n",
       "      <td>...</td>\n",
       "    </tr>\n",
       "    <tr>\n",
       "      <th>121</th>\n",
       "      <td>TA-ST-GF-0160</td>\n",
       "      <td>Stair Formwork</td>\n",
       "      <td>True</td>\n",
       "      <td>29-10-2023</td>\n",
       "      <td>30-10-2023</td>\n",
       "      <td>03-11-2023</td>\n",
       "      <td>08-11-2023</td>\n",
       "    </tr>\n",
       "    <tr>\n",
       "      <th>122</th>\n",
       "      <td>TA-ST-GF-0170</td>\n",
       "      <td>Stair Steel Reinforcement</td>\n",
       "      <td>True</td>\n",
       "      <td>31-10-2023</td>\n",
       "      <td>04-11-2023</td>\n",
       "      <td>05-11-2023</td>\n",
       "      <td>07-11-2023</td>\n",
       "    </tr>\n",
       "    <tr>\n",
       "      <th>123</th>\n",
       "      <td>TA-ST-GF-0180</td>\n",
       "      <td>Stair Concrete Casting</td>\n",
       "      <td>True</td>\n",
       "      <td>05-11-2023</td>\n",
       "      <td>05-11-2023</td>\n",
       "      <td>10-11-2023</td>\n",
       "      <td>10-11-2023</td>\n",
       "    </tr>\n",
       "    <tr>\n",
       "      <th>124</th>\n",
       "      <td>TA-ST-GF-0190</td>\n",
       "      <td>StairCurring</td>\n",
       "      <td>True</td>\n",
       "      <td>06-11-2023</td>\n",
       "      <td>14-11-2023</td>\n",
       "      <td>08-11-2023</td>\n",
       "      <td>23-11-2023</td>\n",
       "    </tr>\n",
       "    <tr>\n",
       "      <th>125</th>\n",
       "      <td>TA-ST-GF-0200</td>\n",
       "      <td>Stair Deshuttering</td>\n",
       "      <td>True</td>\n",
       "      <td>15-11-2023</td>\n",
       "      <td>18-11-2023</td>\n",
       "      <td>17-11-2023</td>\n",
       "      <td>19-11-2023</td>\n",
       "    </tr>\n",
       "  </tbody>\n",
       "</table>\n",
       "<p>126 rows × 7 columns</p>\n",
       "</div>"
      ],
      "text/plain": [
       "                 Id                                               Name  \\\n",
       "0    TA-ENG-DR-0010  Submission of  Structural & Architectural Shop...   \n",
       "1    TA-ENG-DR-0020                    Submission of MEP Shop Drawings   \n",
       "2    TA-ENG-DR-0030  Approval of  Structural & Architectural Shop D...   \n",
       "3    TA-ENG-DR-0040                      Approval of MEP Shop Drawings   \n",
       "4     TA-FN-01-0010                                        Block Works   \n",
       "..              ...                                                ...   \n",
       "121   TA-ST-GF-0160                                     Stair Formwork   \n",
       "122   TA-ST-GF-0170                          Stair Steel Reinforcement   \n",
       "123   TA-ST-GF-0180                             Stair Concrete Casting   \n",
       "124   TA-ST-GF-0190                                       StairCurring   \n",
       "125   TA-ST-GF-0200                                 Stair Deshuttering   \n",
       "\n",
       "     IsCritical ScheduleStart ScheduleFininsh ActualStart ActualFinish  \n",
       "0          True    30-07-2023      12-08-2023  30-07-2023   12-08-2023  \n",
       "1          True    30-07-2023      12-08-2023  30-07-2023   12-08-2023  \n",
       "2          True    13-08-2023      16-08-2023  13-08-2023   16-08-2023  \n",
       "3          True    13-08-2023      19-08-2023  13-08-2023   19-08-2023  \n",
       "4          True    11-12-2023      24-12-2023        None         None  \n",
       "..          ...           ...             ...         ...          ...  \n",
       "121        True    29-10-2023      30-10-2023  03-11-2023   08-11-2023  \n",
       "122        True    31-10-2023      04-11-2023  05-11-2023   07-11-2023  \n",
       "123        True    05-11-2023      05-11-2023  10-11-2023   10-11-2023  \n",
       "124        True    06-11-2023      14-11-2023  08-11-2023   23-11-2023  \n",
       "125        True    15-11-2023      18-11-2023  17-11-2023   19-11-2023  \n",
       "\n",
       "[126 rows x 7 columns]"
      ]
     },
     "execution_count": 7,
     "metadata": {},
     "output_type": "execute_result"
    }
   ],
   "source": [
    "from owlready2 import *\n",
    "import pandas as pd\n",
    "onto = get_ontology(\"IproK.owl\").load()\n",
    "\n",
    "tasks = onto.Task.instances()\n",
    "task_list = []\n",
    "for task in tasks:\n",
    "    time = task.hasTaskTime\n",
    "    task_data = {\n",
    "        'Id': task.Id,\n",
    "        'Name': task.Name,\n",
    "        'IsCritical': task.IsCritical,\n",
    "        'ScheduleStart': time.ScheduleStart,\n",
    "        'ScheduleFininsh': time.ScheduleFinish,\n",
    "        'ActualStart': time.ActualStart,\n",
    "        'ActualFinish': time.ActualFinish\n",
    "    }\n",
    "    task_list.append(task_data)\n",
    "    \n",
    "task_information  = pd.DataFrame(task_list)\n",
    "task_information"
   ]
  },
  {
   "cell_type": "code",
   "execution_count": null,
   "id": "18980746-9360-48d0-b8ce-934cabe0e7e7",
   "metadata": {},
   "outputs": [],
   "source": [
    "from owlready2 import *\n",
    "import pandas as pd\n",
    "onto = get_ontology(\"IproK.owl\").load()\n",
    "\n",
    "tasks = onto.Task.instances()\n",
    "task_list = []\n",
    "for task in tasks:\n",
    "    task_data = {\n",
    "        'Id': task.Id,\n",
    "        'Name': task.Name,\n",
    "        'Status': task.hasWorkStatus[0].name,\n",
    "        'IsCritical': task.IsCritical\n",
    "    }\n",
    "    task_list.append(task_data)\n",
    "    \n",
    "task_information  = pd.DataFrame(task_list)\n",
    "task_information"
   ]
  },
  {
   "cell_type": "markdown",
   "id": "270afa5f-f9ef-4b96-97bc-f88ceaeacf93",
   "metadata": {},
   "source": [
    "### Q2. Which tasks are part of a particular project phase or WBS?"
   ]
  },
  {
   "cell_type": "code",
   "execution_count": 77,
   "id": "7e241466-01a8-46d7-b9cb-f02e50012971",
   "metadata": {
    "scrolled": true
   },
   "outputs": [
    {
     "name": "stdout",
     "output_type": "stream",
     "text": [
      "               Name  Tasks_count\n",
      "2     WB-01-ST-0010           40\n",
      "14    WB-GF-ST-0010           40\n",
      "0     WB-01-FN-0020           28\n",
      "12    WB-GF-FN-0020           28\n",
      "15   WB-PRO-FN-0030           20\n",
      "1    WB-01-MEP-0030           18\n",
      "13   WB-GF-MEP-0030           18\n",
      "17   WB-PRO-ST-0010           16\n",
      "16  WB-PRO-MEP-0020           14\n",
      "7    WB-DB-GEN-0010           12\n",
      "11    WB-FL-ST-0010            8\n",
      "6    WB-DB-ENG-0020            8\n",
      "10   WB-FL-MEP-0020            2\n",
      "9    WB-DB-PRO-0030            0\n",
      "8    WB-DB-HAN-0050            0\n",
      "5    WB-DB-CON-0040            0\n",
      "4    WB-CON-SP-0020            0\n",
      "3    WB-CON-SB-0010            0\n",
      "18    WB-SB-FL-0010            0\n",
      "19    WB-SP-01-0020            0\n",
      "20    WB-SP-02-0030            0\n",
      "21    WB-SP-GF-0010            0\n"
     ]
    }
   ],
   "source": [
    "wbs_all = onto.WBS.direct_instances() # list of WBS in Project\n",
    "\n",
    "wbs_list = []\n",
    "for wbs in wbs_all:\n",
    "    wbs_data = {\n",
    "        'Name': wbs.name,\n",
    "        'Tasks_count': len(wbs.hasTask)  # Count tasks in WBS\n",
    "    }\n",
    "    wbs_list.append(wbs_data)\n",
    "    \n",
    "wbs_information = pd.DataFrame(wbs_list)\n",
    "wbs_information_sorted = wbs_information.sort_values(by='Tasks_count', ascending=False)\n",
    "print(wbs_information_sorted)"
   ]
  },
  {
   "attachments": {},
   "cell_type": "markdown",
   "id": "2273b0cc-f024-47c5-a797-764ac3f475d5",
   "metadata": {},
   "source": [
    "### Q3. Which tasks have been completed, are in progress, or have not been started yet?"
   ]
  },
  {
   "cell_type": "code",
   "execution_count": 19,
   "id": "2b11d2da-4b9c-4290-ba3a-6b9d7e5e7520",
   "metadata": {
    "scrolled": true
   },
   "outputs": [
    {
     "name": "stdout",
     "output_type": "stream",
     "text": [
      "Submission of  Structural & Architectural Shop Drawings has status COMPLETED\n",
      "Submission of MEP Shop Drawings has status COMPLETED\n",
      "Approval of  Structural & Architectural Shop Drawings has status COMPLETED\n",
      "Approval of MEP Shop Drawings has status COMPLETED\n",
      "Block Works has status NOTSTARTED\n",
      "Door Installation has status NOTSTARTED\n",
      "Aluminum Works Windows has status NOTSTARTED\n",
      "Plaster 1st Coat has status NOTSTARTED\n",
      "Plaster 2nd & Final Coats has status NOTSTARTED\n",
      "False Ceiling Hangers & Supports has status NOTSTARTED\n",
      "False Ceiling Final Fix has status NOTSTARTED\n",
      "Paint 1st Application has status NOTSTARTED\n",
      "Paint 2nd Application has status NOTSTARTED\n",
      "Paint Final Application has status NOTSTARTED\n",
      "Waterproofing Wet Area has status NOTSTARTED\n",
      "Stair Railing has status NOTSTARTED\n",
      "Marble Flooring has status NOTSTARTED\n",
      "Furnature & Other Finishing Works has status NOTSTARTED\n",
      "Block Works has status STARTED\n",
      "Door Installation has status STARTED\n",
      "Aluminum Works Windows has status STARTED\n",
      "Plaster 1st Coat has status STARTED\n",
      "Plaster 2nd & Final Coats has status STARTED\n",
      "False Ceiling Hangers & Supports has status STARTED\n",
      "False Ceiling Final Fix has status STARTED\n",
      "Paint 1st Application has status STARTED\n",
      "Paint 2nd Application has status STARTED\n",
      "Paint Final Application has status STARTED\n",
      "Waterproofing Wet Area has status STARTED\n",
      "Stair Railing has status STARTED\n",
      "Marble Flooring has status STARTED\n",
      "Furnature & Other Finishing Works has status STARTED\n",
      "Project Commencement Date has status COMPLETED\n",
      "Site Possessing has status COMPLETED\n",
      "DSC Receive AFC Documents/ Drawings and design NOC has status COMPLETED\n",
      "Prelimineries has status STARTED\n",
      "Testing & Commissioning has status NOTSTARTED\n",
      "Project Finish Date has status NOTSTARTED\n",
      "Installation Drainage and Sanitary Pipes has status NOTSTARTED\n",
      "Installation Water Supply Pipes has status NOTSTARTED\n",
      "Testing  Drainage and Sanitary Pipes has status NOTSTARTED\n",
      "Testing  Water Supply Pipes has status NOTSTARTED\n",
      "Installation of Wiring Accessories has status NOTSTARTED\n",
      "Installation of Control System devices has status NOTSTARTED\n",
      "Inspection of Concealed Conduits for Lighting & Power has status NOTSTARTED\n",
      "MEP Final Fix in Slab Section has status NOTSTARTED\n",
      "MEP Final Fix in Wall Section has status NOTSTARTED\n",
      "MEP Works In Foundation has status COMPLETED\n",
      "Installation Drainage and Sanitary Pipes has status STARTED\n",
      "Installation Water Supply Pipes has status STARTED\n",
      "Testing  Drainage and Sanitary Pipes has status STARTED\n",
      "Testing  Water Supply Pipes has status STARTED\n",
      "Installation of Wiring Accessories has status STARTED\n",
      "Installation of Control System devices has status STARTED\n",
      "Inspection of Concealed Conduits for Lighting & Power has status STARTED\n",
      "MEP Final Fix in Slab Section has status STARTED\n",
      "MEP Final Fix in Wall Section has status STARTED\n",
      "Partitions Gypsum Boards has status STARTED\n",
      "Aluminum Works Windows, Doors  has status STARTED\n",
      "hollow block and Brick has status STARTED\n",
      "Passenger and Services Lift has status STARTED\n",
      "Wood Doors has status STARTED\n",
      " Plastering Accessories has status STARTED\n",
      "Ceramic and Porcelain Tiles has status STARTED\n",
      "False Ceiling Works has status STARTED\n",
      "Painting has status STARTED\n",
      "Furniture has status STARTED\n",
      " DRAINAGE has status STARTED\n",
      " PLUMBING has status STARTED\n",
      "FIRE FIGHTING has status STARTED\n",
      " HVAC  has status STARTED\n",
      "FULE SYSTEM (GENERATOR) has status STARTED\n",
      "Power & Lighting has status STARTED\n",
      "ELV Systems has status STARTED\n",
      "Cement has status STARTED\n",
      "Ready Mix Concrete has status STARTED\n",
      "Reinforcement Steel has status STARTED\n",
      "Plastic Spacer has status COMPLETED\n",
      "Damp Proofing Under Ground has status COMPLETED\n",
      "Water proofing _internal has status COMPLETED\n",
      "Water proofing _external has status COMPLETED\n",
      "Thermal Insulation for top roof has status COMPLETED\n",
      "Slab and Beam Formwork has status NOTSTARTED\n",
      "Slab and Beam Steel Reinforcement has status NOTSTARTED\n",
      "Slab and Beam Concrete Casting has status NOTSTARTED\n",
      "Slab and Beam Curring has status NOTSTARTED\n",
      "Slab and Beam Deshuttering has status NOTSTARTED\n",
      "Column Steel Reinforcement has status NOTSTARTED\n",
      "Column Formwork has status NOTSTARTED\n",
      "Column Concrete Casting has status NOTSTARTED\n",
      "Column Curring  has status NOTSTARTED\n",
      "Column Deshuttering has status NOTSTARTED\n",
      "Core wall  Steel Reinforcement has status NOTSTARTED\n",
      "Core wall  Formwork  has status NOTSTARTED\n",
      "Core wall  Concrete Casting has status NOTSTARTED\n",
      "Core wall Curring has status NOTSTARTED\n",
      "Core wall Deshuttering has status NOTSTARTED\n",
      "Stair Formwork has status NOTSTARTED\n",
      "Stair Steel Reinforcement has status NOTSTARTED\n",
      "Stair Concrete Casting has status NOTSTARTED\n",
      "StairCurring has status NOTSTARTED\n",
      "Stair Deshuttering has status NOTSTARTED\n",
      "Foundation Steel Reinforcement has status COMPLETED\n",
      "Foundation Formwork has status COMPLETED\n",
      "Fouundation Concrete Casting has status COMPLETED\n",
      "Foundation Curring and Deshuttering has status COMPLETED\n",
      "Slab and Beam Formwork has status COMPLETED\n",
      "Slab and Beam Steel Reinforcement has status COMPLETED\n",
      "Slab and Beam Concrete Casting has status COMPLETED\n",
      "Slab and Beam Curring has status COMPLETED\n",
      "Slab and Beam Deshuttering has status COMPLETED\n",
      "Column Steel Reinforcement has status COMPLETED\n",
      "Column Formwork has status COMPLETED\n",
      "Column Concrete Casting has status COMPLETED\n",
      "Column Curring  has status COMPLETED\n",
      "Column Deshuttering has status COMPLETED\n",
      "Core wall  Steel Reinforcement has status COMPLETED\n",
      "Core wall  Formwork  has status COMPLETED\n",
      "Core wall  Concrete Casting has status COMPLETED\n",
      "Core wall Curring has status COMPLETED\n",
      "Core wall Deshuttering has status COMPLETED\n",
      "Stair Formwork has status COMPLETED\n",
      "Stair Steel Reinforcement has status COMPLETED\n",
      "Stair Concrete Casting has status COMPLETED\n",
      "StairCurring has status COMPLETED\n",
      "Stair Deshuttering has status COMPLETED\n"
     ]
    }
   ],
   "source": [
    "tasks = onto.Task.instances()\n",
    "for task in tasks:\n",
    "    for status in task.hasWorkStatus:\n",
    "        print(f'{task.Name} has status {status.name}')"
   ]
  },
  {
   "cell_type": "code",
   "execution_count": 27,
   "id": "e61941f0-a419-4068-ba36-bdeb96e4331f",
   "metadata": {},
   "outputs": [],
   "source": [
    "from owlready2 import *\n",
    "onto = get_ontology(\"IproK.owl\").load()"
   ]
  },
  {
   "cell_type": "code",
   "execution_count": 21,
   "id": "8ac99364-4070-430d-9277-64dee998347d",
   "metadata": {},
   "outputs": [
    {
     "data": {
      "text/plain": [
       "'http://w3id.org/IproK#'"
      ]
     },
     "execution_count": 21,
     "metadata": {},
     "output_type": "execute_result"
    }
   ],
   "source": [
    "onto.base_iri"
   ]
  },
  {
   "cell_type": "markdown",
   "id": "cdc867ff-0d7d-473a-acdc-fd230e72787c",
   "metadata": {},
   "source": [
    "### Q4. Which tasks have been delayed, and what is the cause of delay?"
   ]
  },
  {
   "cell_type": "code",
   "execution_count": 3,
   "id": "579ef02e-40c3-4eef-9a01-f86cc0167284",
   "metadata": {},
   "outputs": [
    {
     "name": "stdout",
     "output_type": "stream",
     "text": [
      "TA-FN-GF-0050 has been delayed due to Procurement Delay\n",
      "TA-FN-GF-0090 has been delayed due to Procurement Delay\n",
      "TA-FN-GF-0120 has been delayed due to Weather Conditions\n",
      "TA-FN-GF-0130 has been delayed due to Procurement Delay\n",
      "TA-MEP-01-0070 has been delayed due to Weather Conditions\n",
      "TA-MEP-GF-0010 has been delayed due to Procurement Delay\n",
      "TA-MEP-GF-0020 has been delayed due to Labor Shortages\n",
      "TA-MEP-GF-0030 has been delayed due to Procurement Delay\n",
      "TA-ST-01-0170 has been delayed due to Unforeseen Site Conditions\n",
      "TA-ST-GF-0030 has been delayed due to Unforeseen Site Conditions\n",
      "TA-ST-GF-0150 has been delayed due to Unforeseen Site Conditions\n",
      "TA-ST-GF-0180 has been delayed due to Safety Incidents\n",
      "TA-ST-GF-0200 has been delayed due to Safety Incidents\n"
     ]
    }
   ],
   "source": [
    "tasks = onto.Task.instances()\n",
    "for task in tasks:\n",
    "    if task.DelayReason is not None:\n",
    "         print(f'{task.name} has been delayed due to {task.DelayReason}')"
   ]
  },
  {
   "cell_type": "code",
   "execution_count": 38,
   "id": "c576757f-664f-4eb6-af34-b1455632256f",
   "metadata": {},
   "outputs": [],
   "source": [
    "import pandas as pd"
   ]
  },
  {
   "cell_type": "markdown",
   "id": "34a90bcd-e197-49de-8be2-d76e902d11e2",
   "metadata": {},
   "source": [
    "### Q5. What are the necessary resources for each task? \n",
    "### Q6. Are there any resources that are underutilized or overutilized in a task?"
   ]
  },
  {
   "cell_type": "code",
   "execution_count": 71,
   "id": "5f686368-7c9c-4139-80b0-a172a26e4398",
   "metadata": {},
   "outputs": [
    {
     "name": "stdout",
     "output_type": "stream",
     "text": [
      "            taskId    resources  BudgetedUnits  ActualUnits\n",
      "154  TA-ST-GF-0020  BindingWire           10.0         26.0\n",
      "128  TA-ST-01-0180     Concrete           15.0         28.0\n",
      "188  TA-ST-GF-0130     Concrete           15.0         29.0\n",
      "78   TA-ST-01-0020  BindingWire           10.0         33.0\n",
      "122  TA-ST-01-0160     FormWork           20.0         34.0\n",
      "..             ...          ...            ...          ...\n",
      "208  TA-ST-GF-0180       Helper            2.0          NaN\n",
      "209  TA-ST-GF-0190    Carpenter            1.0          NaN\n",
      "210  TA-ST-GF-0190       Helper            4.0          NaN\n",
      "211  TA-ST-GF-0200    Carpenter            1.0          NaN\n",
      "212  TA-ST-GF-0200       Helper            4.0          NaN\n",
      "\n",
      "[213 rows x 4 columns]\n"
     ]
    }
   ],
   "source": [
    "tasks = onto.Task.instances()\n",
    "resource_list = []\n",
    "for task in tasks :\n",
    "    for resource in task.requiresResource:\n",
    "        task_resource = {\n",
    "            'taskId':task.Id,\n",
    "            'resources':resource.is_a[0].name,\n",
    "            'BudgetedUnits':resource.BudgetedUnits,\n",
    "            'ActualUnits': resource.ActualUnits        \n",
    "        }\n",
    "        resource_list.append(task_resource)\n",
    "    \n",
    "Resource_information  = pd.DataFrame(resource_list)\n",
    "Resource_information_sorted = Resource_information.sort_values(by='ActualUnits')\n",
    "print(Resource_information_sorted)"
   ]
  },
  {
   "cell_type": "markdown",
   "id": "e3e5c940-9c09-4b8c-991b-020f7789e077",
   "metadata": {},
   "source": [
    "### Q7"
   ]
  },
  {
   "cell_type": "code",
   "execution_count": 49,
   "id": "27b08f8c-5a87-4d88-89a1-d4e6497da612",
   "metadata": {},
   "outputs": [
    {
     "name": "stdout",
     "output_type": "stream",
     "text": [
      "On Date : 21-11-2023 TA-ST-01-0020 requires 10.0 of BindingWire \n",
      "On Date : 21-11-2023 TA-ST-01-0020 requires 4.0 of Helper \n",
      "On Date : 21-11-2023 TA-ST-01-0020 requires 2.0 of Ironworker \n"
     ]
    }
   ],
   "source": [
    "tasks = onto.Task.instances()\n",
    "resource_list = []\n",
    "for task in tasks :\n",
    "    time = task.hasTaskTime\n",
    "    if time.ScheduleStart == \"21-11-2023\" :\n",
    "           for resource in task.requiresResource:\n",
    "               print(f'On Date : 21-11-2023 {task.Id} requires {resource.BudgetedUnits} of {resource.is_a[0].name} ')\n",
    "        "
   ]
  },
  {
   "cell_type": "markdown",
   "id": "fdeaf04b-3649-45b4-a8f9-08ffc7fc1709",
   "metadata": {},
   "source": [
    "### Q8. What is the estimated cost for each task?"
   ]
  },
  {
   "cell_type": "code",
   "execution_count": 60,
   "id": "da98363d-dfc6-4c83-a8b5-49853b8a1e39",
   "metadata": {},
   "outputs": [
    {
     "name": "stdout",
     "output_type": "stream",
     "text": [
      "             taskId  BudgetedCost  ActualCost\n",
      "0    TA-ENG-DR-0010         55526       68646\n",
      "1    TA-ENG-DR-0020         70202       55045\n",
      "2    TA-ENG-DR-0030         49079       72610\n",
      "3    TA-ENG-DR-0040         57791       39957\n",
      "4     TA-FN-01-0010         48074       33431\n",
      "..              ...           ...         ...\n",
      "121   TA-ST-GF-0160         47222       43626\n",
      "122   TA-ST-GF-0170         72666       76304\n",
      "123   TA-ST-GF-0180         58952       67064\n",
      "124   TA-ST-GF-0190         39698       62302\n",
      "125   TA-ST-GF-0200         50652       60838\n",
      "\n",
      "[126 rows x 3 columns]\n"
     ]
    }
   ],
   "source": [
    "tasks = onto.Task.instances()\n",
    "cost_list = []\n",
    "for task in tasks :\n",
    "    for cost in task.hasCostItem:\n",
    "        cost_data = {\n",
    "            'taskId':task.Id,\n",
    "            'CostType':cost.hasCostType[0].name,\n",
    "            'BudgetedCost':cost.BudgetedCost,\n",
    "            'ActualCost': cost.ActualCost        \n",
    "        }\n",
    "        cost_list.append(cost_data)\n",
    "    \n",
    "cost_information  = pd.DataFrame(cost_list)\n",
    "# Group by 'taskId' and sum 'BudgetedCost' and 'ActualCost'\n",
    "cost_summary = cost_information.groupby('taskId').agg({\n",
    "    'BudgetedCost': 'sum',\n",
    "    'ActualCost': 'sum'\n",
    "    }).reset_index()\n",
    "\n",
    "print(cost_summary)"
   ]
  },
  {
   "cell_type": "markdown",
   "id": "fd19bc13-4b34-4cfd-b2e8-f7dd272ed8c4",
   "metadata": {},
   "source": [
    "### Q9. How is cost variance for tasks and the project calculated and analyzed?"
   ]
  },
  {
   "cell_type": "code",
   "execution_count": 69,
   "id": "f5a573e8-dfb8-496e-8449-3600caeec7ad",
   "metadata": {
    "scrolled": true
   },
   "outputs": [
    {
     "name": "stdout",
     "output_type": "stream",
     "text": [
      "             taskId   CostType  BudgetedCost  ActualCost  CostVariance\n",
      "0    TA-ENG-DR-0010  Equipment         11513       21588         10075\n",
      "1    TA-ENG-DR-0010      Labor         26855       27062           207\n",
      "2    TA-ENG-DR-0010   Material         17158       19996          2838\n",
      "3    TA-ENG-DR-0020  Equipment         22484        5919        -16565\n",
      "4    TA-ENG-DR-0020      Labor         27384       19591         -7793\n",
      "..              ...        ...           ...         ...           ...\n",
      "373   TA-ST-GF-0190      Labor          7547       21091         13544\n",
      "374   TA-ST-GF-0190   Material         14774       13921          -853\n",
      "375   TA-ST-GF-0200  Equipment         28271       26667         -1604\n",
      "376   TA-ST-GF-0200      Labor         13819       24695         10876\n",
      "377   TA-ST-GF-0200   Material          8562        9476           914\n",
      "\n",
      "[378 rows x 5 columns]\n"
     ]
    }
   ],
   "source": [
    "cost_information['CostVariance'] = cost_information['ActualCost'] - cost_information['BudgetedCost']\n",
    "print(cost_information)\n"
   ]
  },
  {
   "cell_type": "markdown",
   "id": "dab9ae90-36a1-445c-832d-af1d8252175d",
   "metadata": {},
   "source": [
    "### Q10. How many tasks are over-budget and how many are under-budget?"
   ]
  },
  {
   "cell_type": "code",
   "execution_count": 66,
   "id": "396f5f32-6fdf-4b19-b866-de89db5b4d93",
   "metadata": {},
   "outputs": [
    {
     "name": "stdout",
     "output_type": "stream",
     "text": [
      "Number of tasks over-budget: 67\n",
      "Number of tasks under-budget: 59\n"
     ]
    }
   ],
   "source": [
    "# Calculate the cost variance\n",
    "cost_information['CostVariance'] = cost_information['ActualCost'] - cost_information['BudgetedCost']\n",
    "\n",
    "# Group by 'taskId' and sum the variances\n",
    "task_variance = cost_information.groupby('taskId').agg({\n",
    "    'CostVariance': 'sum'\n",
    "}).reset_index()\n",
    "\n",
    "# Count tasks that are over-budget and under-budget\n",
    "over_budget_count = (task_variance['CostVariance'] > 0).sum()\n",
    "under_budget_count = (task_variance['CostVariance'] < 0).sum()\n",
    "\n",
    "print(f'Number of tasks over-budget: {over_budget_count}')\n",
    "print(f'Number of tasks under-budget: {under_budget_count}')"
   ]
  },
  {
   "cell_type": "code",
   "execution_count": 74,
   "id": "31fdc858-4f8e-47d6-9110-2eb10b79fcbe",
   "metadata": {},
   "outputs": [],
   "source": [
    "onto.destroy()"
   ]
  },
  {
   "cell_type": "code",
   "execution_count": null,
   "id": "82d59e42-add7-49ff-a026-6a404fbc0474",
   "metadata": {},
   "outputs": [],
   "source": []
  }
 ],
 "metadata": {
  "kernelspec": {
   "display_name": "Python 3 (ipykernel)",
   "language": "python",
   "name": "python3"
  },
  "language_info": {
   "codemirror_mode": {
    "name": "ipython",
    "version": 3
   },
   "file_extension": ".py",
   "mimetype": "text/x-python",
   "name": "python",
   "nbconvert_exporter": "python",
   "pygments_lexer": "ipython3",
   "version": "3.11.9"
  }
 },
 "nbformat": 4,
 "nbformat_minor": 5
}
